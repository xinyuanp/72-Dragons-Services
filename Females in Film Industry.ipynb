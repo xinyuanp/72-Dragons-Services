{
 "cells": [
  {
   "cell_type": "markdown",
   "metadata": {},
   "source": [
    "#https://www.freethebid.com/women-directors/\n",
    "#https://c6amf247.caspio.com/dp/7a7b7000cad2acd90bc04f37887e\n",
    "#http://femfilm.ca/directors_list.php?lang=e\n",
    "\n",
    "#查看下有没有可以用的数据\n",
    "#https://wfpp.columbia.edu/digital-resources-research-tools/#DATABASES_WEBSITES\n",
    "\n",
    "#可以直接下载csv\n",
    "#https://a-doc.org/crew-database/\n",
    "\n",
    "#这个是个搜所网站\n",
    "#https://www.imdb.com/search/name/?gender=female&ref_=rlm\n"
   ]
  },
  {
   "cell_type": "code",
   "execution_count": 29,
   "metadata": {},
   "outputs": [],
   "source": [
    "import requests\n",
    "from bs4 import BeautifulSoup\n",
    "import pandas as pd"
   ]
  },
  {
   "cell_type": "code",
   "execution_count": 30,
   "metadata": {},
   "outputs": [],
   "source": [
    "url = \"https://www.freethebid.com/women-directors/\""
   ]
  },
  {
   "cell_type": "code",
   "execution_count": 31,
   "metadata": {},
   "outputs": [],
   "source": [
    "res = requests.get(url)\n",
    "soup = BeautifulSoup(res.text, 'lxml')"
   ]
  },
  {
   "cell_type": "code",
   "execution_count": null,
   "metadata": {},
   "outputs": [],
   "source": [
    "html_doc = \"\"\"\n",
    "\"\"\""
   ]
  },
  {
   "cell_type": "code",
   "execution_count": 86,
   "metadata": {},
   "outputs": [],
   "source": [
    "soup = BeautifulSoup(html_doc, 'html.parser')"
   ]
  },
  {
   "cell_type": "markdown",
   "metadata": {},
   "source": [
    "## collect all the links"
   ]
  },
  {
   "cell_type": "code",
   "execution_count": 87,
   "metadata": {
    "scrolled": true
   },
   "outputs": [],
   "source": [
    "lists = soup.find_all('article')\n"
   ]
  },
  {
   "cell_type": "code",
   "execution_count": 88,
   "metadata": {
    "scrolled": true
   },
   "outputs": [
    {
     "name": "stdout",
     "output_type": "stream",
     "text": [
      "168\n"
     ]
    }
   ],
   "source": [
    "a = 0\n",
    "links = []\n",
    "for i in range(len(lists)):\n",
    "    a = a+1\n",
    "    foo = lists[i]\n",
    "    link =foo.find('a').get('href')\n",
    "    links.append(link)\n",
    "    \n",
    "print(a)"
   ]
  },
  {
   "cell_type": "code",
   "execution_count": 54,
   "metadata": {
    "scrolled": true
   },
   "outputs": [
    {
     "data": {
      "text/plain": [
       "'https://www.freethebid.com/directors/a-v-rockwell/'"
      ]
     },
     "execution_count": 54,
     "metadata": {},
     "output_type": "execute_result"
    }
   ],
   "source": [
    "lists[0].find('a').get('href')"
   ]
  },
  {
   "cell_type": "markdown",
   "metadata": {},
   "source": [
    "## detailed info"
   ]
  },
  {
   "cell_type": "code",
   "execution_count": 89,
   "metadata": {},
   "outputs": [],
   "source": [
    "category_list = ['Branded Content', 'Commercial', 'Director Type', 'Film','Innovation', 'Location','Language','Production Companies','TV/Episodic', 'Music']\n",
    "\n",
    "def generate_table(url):\n",
    "    res = requests.get(url)\n",
    "    soup = BeautifulSoup(res.text, 'lxml')\n",
    "    #get their names\n",
    "    name_foo = soup.find('h2',class_='post-name')\n",
    "    name = name_foo.text\n",
    "    #get their personal website\n",
    "    try:\n",
    "        website_foo = soup.find('div',class_='post-filter-item')\n",
    "        website = website_foo.find('a').get('href')\n",
    "    except:\n",
    "        website = 'NaN'\n",
    "    #get tags\n",
    "    content = []\n",
    "    category = []\n",
    "    results = soup.find_all('div',style = 'font-size:1.4rem')\n",
    "    for i in range(len(results)):\n",
    "        category.append(results[i].text.split(':')[0])\n",
    "        a = results[i].find_all('span')\n",
    "        #print(a)\n",
    "        foo = ''\n",
    "        index = 0\n",
    "        for each in a:\n",
    "            if index == 0:\n",
    "                foo = foo + each.text\n",
    "            else:\n",
    "                foo = foo +', ' + each.text\n",
    "            index += 1\n",
    "        content.append(foo)\n",
    "    #build a dictionary for all attributes\n",
    "    dic = dict(zip(category,content))\n",
    "    dic['Name']=name\n",
    "    dic['Website']=website\n",
    "    return(dic)\n",
    "\n"
   ]
  },
  {
   "cell_type": "code",
   "execution_count": 90,
   "metadata": {},
   "outputs": [
    {
     "data": {
      "text/html": [
       "<div>\n",
       "<style scoped>\n",
       "    .dataframe tbody tr th:only-of-type {\n",
       "        vertical-align: middle;\n",
       "    }\n",
       "\n",
       "    .dataframe tbody tr th {\n",
       "        vertical-align: top;\n",
       "    }\n",
       "\n",
       "    .dataframe thead th {\n",
       "        text-align: right;\n",
       "    }\n",
       "</style>\n",
       "<table border=\"1\" class=\"dataframe\">\n",
       "  <thead>\n",
       "    <tr style=\"text-align: right;\">\n",
       "      <th></th>\n",
       "      <th>Name</th>\n",
       "      <th>Website</th>\n",
       "      <th>Branded Content</th>\n",
       "      <th>Commercial</th>\n",
       "      <th>Director Type</th>\n",
       "      <th>Film</th>\n",
       "      <th>Innovation</th>\n",
       "      <th>Location</th>\n",
       "      <th>Language</th>\n",
       "      <th>Production Companies</th>\n",
       "      <th>TV/Episodic</th>\n",
       "      <th>Music</th>\n",
       "      <th>Categories</th>\n",
       "      <th>Companies</th>\n",
       "      <th>Composing Style</th>\n",
       "    </tr>\n",
       "  </thead>\n",
       "  <tbody>\n",
       "    <tr>\n",
       "      <th>0</th>\n",
       "      <td>Agatha Kaspar</td>\n",
       "      <td>http://www.qdepartment.com/</td>\n",
       "      <td>NaN</td>\n",
       "      <td>NaN</td>\n",
       "      <td>NaN</td>\n",
       "      <td>NaN</td>\n",
       "      <td>NaN</td>\n",
       "      <td>Canada, USA, Los Angeles</td>\n",
       "      <td>English</td>\n",
       "      <td>NaN</td>\n",
       "      <td>NaN</td>\n",
       "      <td>NaN</td>\n",
       "      <td>Film, Songwriting, Trailers, TV, Documentary F...</td>\n",
       "      <td>Q Department</td>\n",
       "      <td>Cinematic, Classical, Contemporary, Electronic...</td>\n",
       "    </tr>\n",
       "    <tr>\n",
       "      <th>1</th>\n",
       "      <td>Aiko Fukushima</td>\n",
       "      <td>https://www.aikofukushima.com/</td>\n",
       "      <td>NaN</td>\n",
       "      <td>NaN</td>\n",
       "      <td>NaN</td>\n",
       "      <td>NaN</td>\n",
       "      <td>NaN</td>\n",
       "      <td>Japan, USA, Los Angeles</td>\n",
       "      <td>English, Japanese</td>\n",
       "      <td>NaN</td>\n",
       "      <td>NaN</td>\n",
       "      <td>NaN</td>\n",
       "      <td>Film, TV, Animated Feature, Documentary Featur...</td>\n",
       "      <td>NaN</td>\n",
       "      <td>Cinematic, Classical, Contemporary, Electronic...</td>\n",
       "    </tr>\n",
       "    <tr>\n",
       "      <th>2</th>\n",
       "      <td>Ailbhe Fitzpatrick</td>\n",
       "      <td>https://www.south-music.com/</td>\n",
       "      <td>NaN</td>\n",
       "      <td>NaN</td>\n",
       "      <td>NaN</td>\n",
       "      <td>NaN</td>\n",
       "      <td>NaN</td>\n",
       "      <td>USA, Los Angeles</td>\n",
       "      <td>English, Gaelic, Spanish</td>\n",
       "      <td>NaN</td>\n",
       "      <td>NaN</td>\n",
       "      <td>NaN</td>\n",
       "      <td>Film, Songwriting, Trailers, Documentary Featu...</td>\n",
       "      <td>South Music</td>\n",
       "      <td>Contemporary, Global/ World, Singer-Songwriter</td>\n",
       "    </tr>\n",
       "    <tr>\n",
       "      <th>3</th>\n",
       "      <td>Aimee Bessada</td>\n",
       "      <td>https://www.aimeebessada.com/music</td>\n",
       "      <td>NaN</td>\n",
       "      <td>NaN</td>\n",
       "      <td>NaN</td>\n",
       "      <td>NaN</td>\n",
       "      <td>NaN</td>\n",
       "      <td>Canada, USA, Los Angeles</td>\n",
       "      <td>English</td>\n",
       "      <td>NaN</td>\n",
       "      <td>NaN</td>\n",
       "      <td>NaN</td>\n",
       "      <td>Film, Songwriting, TV, Documentary Feature, Na...</td>\n",
       "      <td>NaN</td>\n",
       "      <td>Cinematic, Contemporary, Orchestral, Pop, Rock...</td>\n",
       "    </tr>\n",
       "    <tr>\n",
       "      <th>4</th>\n",
       "      <td>Aïsha Devi</td>\n",
       "      <td>http://www.syncsmith.com/</td>\n",
       "      <td>NaN</td>\n",
       "      <td>NaN</td>\n",
       "      <td>NaN</td>\n",
       "      <td>NaN</td>\n",
       "      <td>NaN</td>\n",
       "      <td>England, Germany, Switzerland</td>\n",
       "      <td>English, French</td>\n",
       "      <td>NaN</td>\n",
       "      <td>NaN</td>\n",
       "      <td>NaN</td>\n",
       "      <td>Film, Interactive Media/ Experiential, Songwri...</td>\n",
       "      <td>Manners McDade, Syncsmith</td>\n",
       "      <td>Cinematic, Electronic, Global/ World, Industri...</td>\n",
       "    </tr>\n",
       "    <tr>\n",
       "      <th>...</th>\n",
       "      <td>...</td>\n",
       "      <td>...</td>\n",
       "      <td>...</td>\n",
       "      <td>...</td>\n",
       "      <td>...</td>\n",
       "      <td>...</td>\n",
       "      <td>...</td>\n",
       "      <td>...</td>\n",
       "      <td>...</td>\n",
       "      <td>...</td>\n",
       "      <td>...</td>\n",
       "      <td>...</td>\n",
       "      <td>...</td>\n",
       "      <td>...</td>\n",
       "      <td>...</td>\n",
       "    </tr>\n",
       "    <tr>\n",
       "      <th>163</th>\n",
       "      <td>Tangelene Bolton</td>\n",
       "      <td>https://www.tangelenebolton.com/</td>\n",
       "      <td>NaN</td>\n",
       "      <td>NaN</td>\n",
       "      <td>NaN</td>\n",
       "      <td>NaN</td>\n",
       "      <td>NaN</td>\n",
       "      <td>USA, Los Angeles</td>\n",
       "      <td>English</td>\n",
       "      <td>NaN</td>\n",
       "      <td>NaN</td>\n",
       "      <td>NaN</td>\n",
       "      <td>Branded Content, Commercials, Film, Interactiv...</td>\n",
       "      <td>NaN</td>\n",
       "      <td>Cinematic, Classical, Contemporary, Electronic...</td>\n",
       "    </tr>\n",
       "    <tr>\n",
       "      <th>164</th>\n",
       "      <td>Tara Creme</td>\n",
       "      <td>https://www.smatalent.com/tara-creme/</td>\n",
       "      <td>NaN</td>\n",
       "      <td>NaN</td>\n",
       "      <td>NaN</td>\n",
       "      <td>NaN</td>\n",
       "      <td>NaN</td>\n",
       "      <td>England</td>\n",
       "      <td>English, French</td>\n",
       "      <td>NaN</td>\n",
       "      <td>NaN</td>\n",
       "      <td>NaN</td>\n",
       "      <td>Branded Content, Commercials, Film, TV, Animat...</td>\n",
       "      <td>SMA Talent</td>\n",
       "      <td>Cinematic, Classical, Contemporary, Electronic...</td>\n",
       "    </tr>\n",
       "    <tr>\n",
       "      <th>165</th>\n",
       "      <td>Tess Tyler</td>\n",
       "      <td>https://www.tesstyler.com/</td>\n",
       "      <td>NaN</td>\n",
       "      <td>NaN</td>\n",
       "      <td>NaN</td>\n",
       "      <td>NaN</td>\n",
       "      <td>NaN</td>\n",
       "      <td>England</td>\n",
       "      <td>English</td>\n",
       "      <td>NaN</td>\n",
       "      <td>NaN</td>\n",
       "      <td>NaN</td>\n",
       "      <td>Film, Video Games</td>\n",
       "      <td>NaN</td>\n",
       "      <td>Cinematic, Classical, Contemporary, Electronic...</td>\n",
       "    </tr>\n",
       "    <tr>\n",
       "      <th>166</th>\n",
       "      <td>Višnja Kržić</td>\n",
       "      <td>http://www.qdepartment.com/</td>\n",
       "      <td>NaN</td>\n",
       "      <td>NaN</td>\n",
       "      <td>NaN</td>\n",
       "      <td>NaN</td>\n",
       "      <td>NaN</td>\n",
       "      <td>USA, New York</td>\n",
       "      <td>English, French, Italian, Serbo-Croatian</td>\n",
       "      <td>NaN</td>\n",
       "      <td>NaN</td>\n",
       "      <td>NaN</td>\n",
       "      <td>Film, Interactive Media/ Experiential, Trailer...</td>\n",
       "      <td>Q Department</td>\n",
       "      <td>Cinematic, Contemporary, Global/ World, Orches...</td>\n",
       "    </tr>\n",
       "    <tr>\n",
       "      <th>167</th>\n",
       "      <td>Zinovia Arvanitidi</td>\n",
       "      <td>https://www.zinoviaarvanitidi.com</td>\n",
       "      <td>NaN</td>\n",
       "      <td>NaN</td>\n",
       "      <td>NaN</td>\n",
       "      <td>NaN</td>\n",
       "      <td>NaN</td>\n",
       "      <td>France</td>\n",
       "      <td>English, French, Greek</td>\n",
       "      <td>NaN</td>\n",
       "      <td>NaN</td>\n",
       "      <td>NaN</td>\n",
       "      <td>Film, Songwriting, TV, Animated Feature, Narra...</td>\n",
       "      <td>NaN</td>\n",
       "      <td>Cinematic, Classical, Contemporary, Electronic...</td>\n",
       "    </tr>\n",
       "  </tbody>\n",
       "</table>\n",
       "<p>168 rows × 15 columns</p>\n",
       "</div>"
      ],
      "text/plain": [
       "                   Name                                Website  \\\n",
       "0         Agatha Kaspar            http://www.qdepartment.com/   \n",
       "1        Aiko Fukushima         https://www.aikofukushima.com/   \n",
       "2    Ailbhe Fitzpatrick           https://www.south-music.com/   \n",
       "3         Aimee Bessada     https://www.aimeebessada.com/music   \n",
       "4            Aïsha Devi              http://www.syncsmith.com/   \n",
       "..                  ...                                    ...   \n",
       "163    Tangelene Bolton       https://www.tangelenebolton.com/   \n",
       "164          Tara Creme  https://www.smatalent.com/tara-creme/   \n",
       "165          Tess Tyler             https://www.tesstyler.com/   \n",
       "166        Višnja Kržić            http://www.qdepartment.com/   \n",
       "167  Zinovia Arvanitidi      https://www.zinoviaarvanitidi.com   \n",
       "\n",
       "    Branded Content Commercial Director Type Film Innovation  \\\n",
       "0               NaN        NaN           NaN  NaN        NaN   \n",
       "1               NaN        NaN           NaN  NaN        NaN   \n",
       "2               NaN        NaN           NaN  NaN        NaN   \n",
       "3               NaN        NaN           NaN  NaN        NaN   \n",
       "4               NaN        NaN           NaN  NaN        NaN   \n",
       "..              ...        ...           ...  ...        ...   \n",
       "163             NaN        NaN           NaN  NaN        NaN   \n",
       "164             NaN        NaN           NaN  NaN        NaN   \n",
       "165             NaN        NaN           NaN  NaN        NaN   \n",
       "166             NaN        NaN           NaN  NaN        NaN   \n",
       "167             NaN        NaN           NaN  NaN        NaN   \n",
       "\n",
       "                          Location                                  Language  \\\n",
       "0         Canada, USA, Los Angeles                                   English   \n",
       "1          Japan, USA, Los Angeles                         English, Japanese   \n",
       "2                 USA, Los Angeles                  English, Gaelic, Spanish   \n",
       "3         Canada, USA, Los Angeles                                   English   \n",
       "4    England, Germany, Switzerland                           English, French   \n",
       "..                             ...                                       ...   \n",
       "163               USA, Los Angeles                                   English   \n",
       "164                        England                           English, French   \n",
       "165                        England                                   English   \n",
       "166                  USA, New York  English, French, Italian, Serbo-Croatian   \n",
       "167                         France                    English, French, Greek   \n",
       "\n",
       "    Production Companies TV/Episodic Music  \\\n",
       "0                    NaN         NaN   NaN   \n",
       "1                    NaN         NaN   NaN   \n",
       "2                    NaN         NaN   NaN   \n",
       "3                    NaN         NaN   NaN   \n",
       "4                    NaN         NaN   NaN   \n",
       "..                   ...         ...   ...   \n",
       "163                  NaN         NaN   NaN   \n",
       "164                  NaN         NaN   NaN   \n",
       "165                  NaN         NaN   NaN   \n",
       "166                  NaN         NaN   NaN   \n",
       "167                  NaN         NaN   NaN   \n",
       "\n",
       "                                            Categories  \\\n",
       "0    Film, Songwriting, Trailers, TV, Documentary F...   \n",
       "1    Film, TV, Animated Feature, Documentary Featur...   \n",
       "2    Film, Songwriting, Trailers, Documentary Featu...   \n",
       "3    Film, Songwriting, TV, Documentary Feature, Na...   \n",
       "4    Film, Interactive Media/ Experiential, Songwri...   \n",
       "..                                                 ...   \n",
       "163  Branded Content, Commercials, Film, Interactiv...   \n",
       "164  Branded Content, Commercials, Film, TV, Animat...   \n",
       "165                                  Film, Video Games   \n",
       "166  Film, Interactive Media/ Experiential, Trailer...   \n",
       "167  Film, Songwriting, TV, Animated Feature, Narra...   \n",
       "\n",
       "                     Companies  \\\n",
       "0                 Q Department   \n",
       "1                          NaN   \n",
       "2                  South Music   \n",
       "3                          NaN   \n",
       "4    Manners McDade, Syncsmith   \n",
       "..                         ...   \n",
       "163                        NaN   \n",
       "164                 SMA Talent   \n",
       "165                        NaN   \n",
       "166               Q Department   \n",
       "167                        NaN   \n",
       "\n",
       "                                       Composing Style  \n",
       "0    Cinematic, Classical, Contemporary, Electronic...  \n",
       "1    Cinematic, Classical, Contemporary, Electronic...  \n",
       "2       Contemporary, Global/ World, Singer-Songwriter  \n",
       "3    Cinematic, Contemporary, Orchestral, Pop, Rock...  \n",
       "4    Cinematic, Electronic, Global/ World, Industri...  \n",
       "..                                                 ...  \n",
       "163  Cinematic, Classical, Contemporary, Electronic...  \n",
       "164  Cinematic, Classical, Contemporary, Electronic...  \n",
       "165  Cinematic, Classical, Contemporary, Electronic...  \n",
       "166  Cinematic, Contemporary, Global/ World, Orches...  \n",
       "167  Cinematic, Classical, Contemporary, Electronic...  \n",
       "\n",
       "[168 rows x 15 columns]"
      ]
     },
     "execution_count": 90,
     "metadata": {},
     "output_type": "execute_result"
    }
   ],
   "source": [
    "category_list = ['Branded Content', 'Commercial', 'Director Type', 'Film','Innovation', 'Location','Language','Production Companies','TV/Episodic', 'Music']\n",
    "df = pd.DataFrame(columns=['Name','Website']+category_list)\n",
    "\n",
    "for i in links:\n",
    "    dic = generate_table(i)\n",
    "    df = df.append(dic, ignore_index=True)        \n",
    "\n",
    "df\n",
    "#dic1 = generate_table(\"https://www.freethebid.com/directors/ellenor-argyropoulos/\")\n",
    "#dic2 = generate_table(\"https://www.freethebid.com/directors/loren-denis/\")\n",
    "\n",
    "#dictionary = []\n",
    "#dictionary.append(dic1.copy())\n",
    "#dictionary.append(dic2.copy())\n",
    "#dictionary\n"
   ]
  },
  {
   "cell_type": "code",
   "execution_count": 91,
   "metadata": {},
   "outputs": [],
   "source": [
    "compression_opts = dict(method='zip',\n",
    "                        archive_name='out.csv')  \n",
    "df.to_csv('out.zip', index=False,\n",
    "          compression=compression_opts)  "
   ]
  },
  {
   "cell_type": "markdown",
   "metadata": {},
   "source": [
    "## Testing Code"
   ]
  },
  {
   "cell_type": "code",
   "execution_count": 89,
   "metadata": {},
   "outputs": [
    {
     "data": {
      "text/plain": [
       "'Ellenor Argyropoulos'"
      ]
     },
     "execution_count": 89,
     "metadata": {},
     "output_type": "execute_result"
    }
   ],
   "source": [
    "res = requests.get(\"https://www.freethebid.com/directors/ellenor-argyropoulos/\")\n",
    "soup = BeautifulSoup(res.text, 'lxml')\n",
    "\n",
    "name_foo = soup.find('h2',class_='post-name')\n",
    "name = name_foo.text\n",
    "name"
   ]
  },
  {
   "cell_type": "code",
   "execution_count": 91,
   "metadata": {},
   "outputs": [
    {
     "data": {
      "text/plain": [
       "'https://www.mermaidtoast.com/copy-of-creatives'"
      ]
     },
     "execution_count": 91,
     "metadata": {},
     "output_type": "execute_result"
    }
   ],
   "source": [
    "website_foo = soup.find('div',class_='post-filter-item')\n",
    "website = website_foo.find('a').get('href')\n",
    "website"
   ]
  },
  {
   "cell_type": "code",
   "execution_count": 31,
   "metadata": {
    "scrolled": true
   },
   "outputs": [
    {
     "data": {
      "text/plain": [
       "[<div style=\"font-size:1.4rem\"><strong>Branded Content: </strong><span>Comedy</span> <span>Dialogue</span> <span>Documentary-style</span> <span>Fashion</span> <span>Narrative</span> <span>Still Photography</span></div>,\n",
       " <div style=\"font-size:1.4rem\"><strong>Commercial: </strong><span>Automotive</span> <span>Comedy</span> <span>Dialogue</span> <span>Documentary-style</span> <span>Fashion</span> <span>Narrative</span> <span>Still Photography</span></div>,\n",
       " <div style=\"font-size:1.4rem\"><strong>Director Type: </strong><span>Signed Directors</span></div>,\n",
       " <div style=\"font-size:1.4rem\"><strong>Film: </strong><span>Documentary Short</span> <span>Narrative Short - Comedy</span> <span>Narrative Short - Drama</span></div>,\n",
       " <div style=\"font-size:1.4rem\"><strong>Language: </strong><span>English</span> <span>Greek</span></div>,\n",
       " <div style=\"font-size:1.4rem\"><strong>Location: </strong><span>Australia</span> <span>USA</span><span>Los Angeles</span></div>,\n",
       " <div style=\"font-size:1.4rem\"><strong>Music: </strong><span>Music Video</span></div>,\n",
       " <div style=\"font-size:1.4rem\"><strong>Production Companies: </strong><span>Mermaid Toast</span></div>]"
      ]
     },
     "execution_count": 31,
     "metadata": {},
     "output_type": "execute_result"
    }
   ],
   "source": [
    "content = []\n",
    "category = []\n",
    "results = soup.find_all('div',style = 'font-size:1.4rem')\n",
    "for i in range(len(results)):\n",
    "    category.append(results[i].text.split(':')[0])\n",
    "    a = results[i].find_all('span')\n",
    "    #print(a)\n",
    "    foo = ''\n",
    "    index = 0\n",
    "    for each in a:\n",
    "        if index == 0:\n",
    "            foo = foo + each.text\n",
    "        else:\n",
    "            foo = foo +', ' + each.text\n",
    "        index += 1\n",
    "    content.append(foo)\n",
    "results"
   ]
  },
  {
   "cell_type": "code",
   "execution_count": 18,
   "metadata": {},
   "outputs": [
    {
     "data": {
      "text/plain": [
       "{'Branded Content': 'Comedy, Dialogue, Documentary-style, Fashion, Narrative, Still Photography',\n",
       " 'Commercial': 'Automotive, Comedy, Dialogue, Documentary-style, Fashion, Narrative, Still Photography',\n",
       " 'Director Type': 'Signed Directors',\n",
       " 'Film': 'Documentary Short, Narrative Short - Comedy, Narrative Short - Drama',\n",
       " 'Language': 'English, Greek',\n",
       " 'Location': 'Australia, USA, Los Angeles',\n",
       " 'Music': 'Music Video',\n",
       " 'Production Companies': 'Mermaid Toast',\n",
       " 'Name': 'Ellenor Argyropoulos',\n",
       " 'Website': 'https://www.mermaidtoast.com/copy-of-creatives'}"
      ]
     },
     "execution_count": 18,
     "metadata": {},
     "output_type": "execute_result"
    }
   ],
   "source": [
    "dic = dict(zip(category,content))\n",
    "dic['Name']=name\n",
    "dic['Website']=website\n",
    "dic"
   ]
  },
  {
   "cell_type": "code",
   "execution_count": 68,
   "metadata": {},
   "outputs": [
    {
     "data": {
      "text/html": [
       "<div>\n",
       "<style scoped>\n",
       "    .dataframe tbody tr th:only-of-type {\n",
       "        vertical-align: middle;\n",
       "    }\n",
       "\n",
       "    .dataframe tbody tr th {\n",
       "        vertical-align: top;\n",
       "    }\n",
       "\n",
       "    .dataframe thead th {\n",
       "        text-align: right;\n",
       "    }\n",
       "</style>\n",
       "<table border=\"1\" class=\"dataframe\">\n",
       "  <thead>\n",
       "    <tr style=\"text-align: right;\">\n",
       "      <th></th>\n",
       "      <th>Name</th>\n",
       "      <th>Website</th>\n",
       "      <th>Branded Content</th>\n",
       "      <th>Commercial</th>\n",
       "      <th>Director Type</th>\n",
       "      <th>Film</th>\n",
       "      <th>Innovation</th>\n",
       "      <th>Location</th>\n",
       "      <th>Language</th>\n",
       "      <th>Production Companies</th>\n",
       "      <th>TV/Episodic</th>\n",
       "      <th>Music</th>\n",
       "    </tr>\n",
       "  </thead>\n",
       "  <tbody>\n",
       "    <tr>\n",
       "      <th>0</th>\n",
       "      <td>Ellenor Argyropoulos</td>\n",
       "      <td>https://www.mermaidtoast.com/copy-of-creatives</td>\n",
       "      <td>Comedy, Dialogue, Documentary-style, Fashion, ...</td>\n",
       "      <td>Automotive, Comedy, Dialogue, Documentary-styl...</td>\n",
       "      <td>Signed Directors</td>\n",
       "      <td>Documentary Short, Narrative Short - Comedy, N...</td>\n",
       "      <td>NaN</td>\n",
       "      <td>Australia, USA, Los Angeles</td>\n",
       "      <td>English, Greek</td>\n",
       "      <td>Mermaid Toast</td>\n",
       "      <td>NaN</td>\n",
       "      <td>Music Video</td>\n",
       "    </tr>\n",
       "    <tr>\n",
       "      <th>1</th>\n",
       "      <td>Loren Denis</td>\n",
       "      <td>http://superprimefilms.com/contact/</td>\n",
       "      <td>NaN</td>\n",
       "      <td>Automotive, Documentary-style, Fashion, Sport,...</td>\n",
       "      <td>Signed Directors</td>\n",
       "      <td>Narrative Short - Drama</td>\n",
       "      <td>NaN</td>\n",
       "      <td>England, France</td>\n",
       "      <td>NaN</td>\n",
       "      <td>LES FILS DE, Rattling Stick, Superprime</td>\n",
       "      <td>NaN</td>\n",
       "      <td>NaN</td>\n",
       "    </tr>\n",
       "  </tbody>\n",
       "</table>\n",
       "</div>"
      ],
      "text/plain": [
       "                   Name                                         Website  \\\n",
       "0  Ellenor Argyropoulos  https://www.mermaidtoast.com/copy-of-creatives   \n",
       "1           Loren Denis             http://superprimefilms.com/contact/   \n",
       "\n",
       "                                     Branded Content  \\\n",
       "0  Comedy, Dialogue, Documentary-style, Fashion, ...   \n",
       "1                                                NaN   \n",
       "\n",
       "                                          Commercial     Director Type  \\\n",
       "0  Automotive, Comedy, Dialogue, Documentary-styl...  Signed Directors   \n",
       "1  Automotive, Documentary-style, Fashion, Sport,...  Signed Directors   \n",
       "\n",
       "                                                Film Innovation  \\\n",
       "0  Documentary Short, Narrative Short - Comedy, N...        NaN   \n",
       "1                            Narrative Short - Drama        NaN   \n",
       "\n",
       "                      Location        Language  \\\n",
       "0  Australia, USA, Los Angeles  English, Greek   \n",
       "1              England, France             NaN   \n",
       "\n",
       "                      Production Companies TV/Episodic        Music  \n",
       "0                            Mermaid Toast         NaN  Music Video  \n",
       "1  LES FILS DE, Rattling Stick, Superprime         NaN          NaN  "
      ]
     },
     "execution_count": 68,
     "metadata": {},
     "output_type": "execute_result"
    }
   ],
   "source": [
    "category_list = ['Branded Content', 'Commercial', 'Director Type', 'Film','Innovation', 'Location','Language','Production Companies','TV/Episodic', 'Music']\n",
    "df = pd.DataFrame(columns=['Name','Website']+category_list)\n",
    "df  = df.append(dictionary, ignore_index=True)\n",
    "df\n"
   ]
  },
  {
   "cell_type": "code",
   "execution_count": 173,
   "metadata": {},
   "outputs": [
    {
     "data": {
      "text/plain": [
       "292"
      ]
     },
     "execution_count": 173,
     "metadata": {},
     "output_type": "execute_result"
    }
   ],
   "source": [
    "len(namesC)"
   ]
  }
 ],
 "metadata": {
  "kernelspec": {
   "display_name": "Python 3",
   "language": "python",
   "name": "python3"
  },
  "language_info": {
   "codemirror_mode": {
    "name": "ipython",
    "version": 3
   },
   "file_extension": ".py",
   "mimetype": "text/x-python",
   "name": "python",
   "nbconvert_exporter": "python",
   "pygments_lexer": "ipython3",
   "version": "3.8.5"
  }
 },
 "nbformat": 4,
 "nbformat_minor": 4
}
